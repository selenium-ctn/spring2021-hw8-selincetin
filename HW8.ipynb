{
 "cells": [
  {
   "cell_type": "code",
   "execution_count": 71,
   "metadata": {},
   "outputs": [],
   "source": [
    "import numpy as np\n",
    "from sklearn.linear_model import LinearRegression\n",
    "from sklearn.feature_selection import RFE, chi2\n",
    "from sklearn.neighbors import KNeighborsRegressor\n",
    "from sklearn.metrics import r2_score, mean_squared_error\n",
    "from sklearn.preprocessing import StandardScaler, MinMaxScaler\n",
    "import matplotlib.pyplot as plt\n",
    "import os"
   ]
  },
  {
   "cell_type": "code",
   "execution_count": 2,
   "metadata": {},
   "outputs": [],
   "source": [
    "def load_data(data_path):\n",
    "    f = open(data_path)\n",
    "    features = []\n",
    "    targets = []\n",
    "    \n",
    "    for line in f: \n",
    "        split_line = line.split(\",\")\n",
    "        target_var = split_line.pop(0)\n",
    "        features.append([float(x) for x in split_line])\n",
    "        targets.append(float(target_var))\n",
    "    f.close()\n",
    "    features = np.array(features)\n",
    "    targets = np.array(targets)\n",
    "    return features, targets"
   ]
  },
  {
   "cell_type": "code",
   "execution_count": 3,
   "metadata": {},
   "outputs": [],
   "source": [
    "features, targets = load_data(\"C:/Users/selin/Documents/GitHub/spring2021-hw8-selincetin/YearPredictionMSD.txt\")"
   ]
  },
  {
   "cell_type": "code",
   "execution_count": 94,
   "metadata": {},
   "outputs": [
    {
     "name": "stdout",
     "output_type": "stream",
     "text": [
      "9.523057108230097e-53\n",
      "6.646850808454706e-09\n",
      "8.323196339262542e-07\n",
      "0.0003235310531919334\n",
      "0.01955593589946674\n",
      "0.03243698738857652\n",
      "0.047295391727267155\n",
      "0.7654036495283155\n",
      "0.9006063082176091\n",
      "0.9620576102400258\n"
     ]
    }
   ],
   "source": [
    "#scaler = StandardScaler()\n",
    "scaler = MinMaxScaler()\n",
    "scaler.fit(features)\n",
    "features = scaler.transform(features)\n",
    "\n",
    "chi_2, p_values = chi2(features, targets)\n",
    "min_10 = np.argsort(p_values)\n",
    "min_10 = min_10[0:10]\n",
    "\n",
    "new_feat = np.empty((features.shape[0], 10))\n",
    "for ii in range(0, 10):\n",
    "    new_feat[:,ii] = features[:, min_10[ii]]\n",
    "    print(p_values[min_10[ii]])\n",
    "\n",
    "train_feat = new_feat[0:463715]\n",
    "test_feat = new_feat[463715:]\n",
    "train_tar = targets[0:463715]\n",
    "test_tar = targets[463715:]\n",
    "#feat_select = RFE(estimator=KNeighborsRegressor(), n_features_to_select=15, verbose=5)\n"
   ]
  },
  {
   "cell_type": "code",
   "execution_count": 95,
   "metadata": {},
   "outputs": [
    {
     "data": {
      "text/plain": [
       "KNeighborsRegressor(n_neighbors=10)"
      ]
     },
     "execution_count": 95,
     "metadata": {},
     "output_type": "execute_result"
    }
   ],
   "source": [
    "#reg = feat_select.fit(train_feat, train_tar)\n",
    "#reg = LinearRegression().fit(train_feat, train_tar)\n",
    "reg = KNeighborsRegressor(n_neighbors=10)\n",
    "reg.fit(train_feat, train_tar)"
   ]
  },
  {
   "cell_type": "code",
   "execution_count": 96,
   "metadata": {},
   "outputs": [],
   "source": [
    "#print(r2_score(reg.predict(train_feat), train_tar))\n",
    "pred_tar = reg.predict(test_feat[0:10000])"
   ]
  },
  {
   "cell_type": "code",
   "execution_count": 93,
   "metadata": {},
   "outputs": [
    {
     "name": "stdout",
     "output_type": "stream",
     "text": [
      "[2000 2003 1994 2001 2003 2000 2004 2000 1996 2000 2004 2004 1994 2003\n",
      " 2005 2003 2004 2000 2002 2001 2004 1998 1999 2005 2005 2001 2005 2006\n",
      " 1990 2005 1996 2001 1999 2000 1992 1992 2001 2002 2002 1998 2003 2006\n",
      " 2005 1997 2004 2004 2006 2003 2005 2003]\n",
      "[2007. 2003. 2005. 2003. 2005. 2007. 2003. 2003. 2003. 2005. 2005. 2007.\n",
      " 2007. 2003. 2005. 2003. 2005. 2005. 2005. 2005. 2005. 2005. 2005. 2005.\n",
      " 2005. 2005. 2005. 2005. 2010. 2010. 2010. 2010. 2010. 2010. 2010. 2010.\n",
      " 2010. 2007. 2002. 2001. 2007. 2007. 2009. 2010. 2009. 2009. 2007. 2007.\n",
      " 2009. 2009.]\n",
      "0.0498\n",
      "10.116781998244303\n"
     ]
    }
   ],
   "source": [
    "print(pred_tar.astype(int)[0:50])\n",
    "print(test_tar[0:50])\n",
    "acc = np.mean(pred_tar.astype(int) == test_tar[0:10000])\n",
    "print(acc)\n",
    "print(mean_squared_error(test_tar[0:10000], pred_tar, squared=False))"
   ]
  },
  {
   "cell_type": "code",
   "execution_count": null,
   "metadata": {},
   "outputs": [],
   "source": []
  }
 ],
 "metadata": {
  "kernelspec": {
   "display_name": "hw8",
   "language": "python",
   "name": "hw8"
  },
  "language_info": {
   "codemirror_mode": {
    "name": "ipython",
    "version": 3
   },
   "file_extension": ".py",
   "mimetype": "text/x-python",
   "name": "python",
   "nbconvert_exporter": "python",
   "pygments_lexer": "ipython3",
   "version": "3.9.5"
  }
 },
 "nbformat": 4,
 "nbformat_minor": 4
}
