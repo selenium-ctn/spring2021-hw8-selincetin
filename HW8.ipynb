{
 "cells": [
  {
   "cell_type": "code",
   "execution_count": 2,
   "metadata": {},
   "outputs": [],
   "source": [
    "import numpy as np\n",
    "from sklearn.linear_model import LinearRegression\n",
    "from sklearn.feature_selection import RFE, chi2\n",
    "from sklearn.neighbors import KNeighborsRegressor\n",
    "from sklearn.metrics import r2_score, mean_squared_error\n",
    "from sklearn.preprocessing import StandardScaler, MinMaxScaler\n",
    "import matplotlib.pyplot as plt\n",
    "import os"
   ]
  },
  {
   "cell_type": "code",
   "execution_count": 3,
   "metadata": {},
   "outputs": [],
   "source": [
    "def load_data(data_path):\n",
    "    f = open(data_path)\n",
    "    features = []\n",
    "    targets = []\n",
    "    \n",
    "    for line in f: \n",
    "        split_line = line.split(\",\")\n",
    "        target_var = split_line.pop(0)\n",
    "        features.append([float(x) for x in split_line])\n",
    "        targets.append(float(target_var))\n",
    "    f.close()\n",
    "    features = np.array(features)\n",
    "    targets = np.array(targets)\n",
    "    return features, targets"
   ]
  },
  {
   "cell_type": "code",
   "execution_count": 4,
   "metadata": {},
   "outputs": [],
   "source": [
    "features, targets = load_data(\"C:/Users/selin/Documents/GitHub/spring2021-hw8-selincetin/YearPredictionMSD.txt\")"
   ]
  },
  {
   "cell_type": "code",
   "execution_count": 31,
   "metadata": {},
   "outputs": [],
   "source": [
    "min_val = np.amin(targets)\n",
    "max_val = np.amax(targets)\n",
    "\n",
    "new_years = np.arange(1920, 2016, 5)\n",
    "new_years = new_years.tolist()"
   ]
  },
  {
   "cell_type": "code",
   "execution_count": 33,
   "metadata": {},
   "outputs": [
    {
     "data": {
      "image/png": "[encoded data removed]",
      "text/plain": [
       "<Figure size 432x288 with 1 Axes>"
      ]
     },
     "metadata": {
      "needs_background": "light"
     },
     "output_type": "display_data"
    }
   ],
   "source": [
    "plt.scatter(targets[0:10000], features[0:10000, 6])\n",
    "plt.xlabel(\"Year\")\n",
    "plt.ylabel(\"Feature 80\")\n",
    "plt.show()"
   ]
  },
  {
   "cell_type": "code",
   "execution_count": 34,
   "metadata": {},
   "outputs": [],
   "source": [
    "scaler = MinMaxScaler()\n",
    "scaler.fit(features)\n",
    "features = scaler.transform(features)\n",
    "\n",
    "train_feat = features[0:463715]\n",
    "train_tar = targets[0:463715]\n",
    "\n",
    "chi_2, p_values = chi2(train_feat, train_tar)\n",
    "min_10 = np.argsort(p_values)\n",
    "min_10 = min_10[0:10]\n",
    "\n",
    "new_feat = np.empty((features.shape[0], 10))\n",
    "for ii in range(0, 10):\n",
    "    new_feat[:,ii] = features[:, min_10[ii]]\n",
    "\n",
    "train_feat = new_feat[0:463715]\n",
    "test_feat = new_feat[463715:]\n",
    "train_tar = targets[0:463715]\n",
    "test_tar = targets[463715:]\n",
    "#feat_select = RFE(estimator=KNeighborsRegressor(), n_features_to_select=15, verbose=5)\n"
   ]
  },
  {
   "cell_type": "code",
   "execution_count": 53,
   "metadata": {},
   "outputs": [
    {
     "data": {
      "text/plain": [
       "KNeighborsRegressor(n_neighbors=50, weights='distance')"
      ]
     },
     "execution_count": 53,
     "metadata": {},
     "output_type": "execute_result"
    }
   ],
   "source": [
    "reg_50_un = KNeighborsRegressor(n_neighbors=50)\n",
    "reg_50_wei = KNeighborsRegressor(n_neighbors=50, weights='distance')\n",
    "reg_50_un.fit(train_feat, train_tar)\n",
    "reg_50_wei.fit(train_feat, train_tar)"
   ]
  },
  {
   "cell_type": "code",
   "execution_count": 49,
   "metadata": {},
   "outputs": [
    {
     "data": {
      "text/plain": [
       "KNeighborsRegressor(n_neighbors=100)"
      ]
     },
     "execution_count": 49,
     "metadata": {},
     "output_type": "execute_result"
    }
   ],
   "source": [
    "#reg = feat_select.fit(train_feat, train_tar)\n",
    "#reg = LinearRegression().fit(train_feat, train_tar)\n",
    "reg_50 = KNeighborsRegressor(n_neighbors=50)\n",
    "reg_75 = KNeighborsRegressor(n_neighbors=75)\n",
    "reg_100 = KNeighborsRegressor(n_neighbors=100)\n",
    "reg_50.fit(train_feat, train_tar)\n",
    "reg_75.fit(train_feat, train_tar)\n",
    "reg_100.fit(train_feat, train_tar)"
   ]
  },
  {
   "cell_type": "code",
   "execution_count": 50,
   "metadata": {},
   "outputs": [],
   "source": [
    "#print(r2_score(reg.predict(train_feat), train_tar))\n",
    "pred_50_tar = reg_50.predict(test_feat)\n",
    "pred_75_tar = reg_75.predict(test_feat)\n",
    "pred_100_tar = reg_100.predict(test_feat)"
   ]
  },
  {
   "cell_type": "code",
   "execution_count": 54,
   "metadata": {},
   "outputs": [],
   "source": [
    "pred_50_tar_un = reg_50_un.predict(test_feat)\n",
    "pred_50_tar_wei = reg_50_wei.predict(test_feat)"
   ]
  },
  {
   "cell_type": "code",
   "execution_count": 51,
   "metadata": {},
   "outputs": [],
   "source": [
    "new_pred_tar_50 = np.empty((pred_50_tar.shape))\n",
    "new_pred_tar_75 = np.empty((pred_75_tar.shape))\n",
    "new_pred_tar_100 = np.empty((pred_100_tar.shape))\n",
    "new_test_tar = np.empty((test_tar.shape))\n",
    "old_tar_vec = [pred_50_tar, pred_75_tar, pred_100_tar, test_tar]\n",
    "new_tar_vec = [new_pred_tar_50, new_pred_tar_75, new_pred_tar_100, new_test_tar]\n",
    " \n",
    "for kk, vec in enumerate(old_tar_vec):    \n",
    "    for jj, tar in enumerate(vec):\n",
    "        for ii, year in enumerate(new_years):\n",
    "            if tar >= year and tar < (year + 5):\n",
    "                new_tar_vec[kk][jj] = year \n",
    "\n",
    "new_test_tar = new_tar_vec[-1]\n",
    "new_tar_vec = new_tar_vec[0:-1]\n",
    "acc_vec = []\n",
    "rmse_vec = []\n",
    "for ii, vec in enumerate(new_tar_vec):\n",
    "    acc_vec.append(np.mean(vec.astype(int) == new_test_tar))\n",
    "    rmse_vec.append(mean_squared_error(vec, new_test_tar, squared=False))\n",
    "    "
   ]
  },
  {
   "cell_type": "code",
   "execution_count": 56,
   "metadata": {},
   "outputs": [
    {
     "name": "stdout",
     "output_type": "stream",
     "text": [
      "[9.750817543459307, 9.750072631920053]\n",
      "[0.25388340112337787, 0.25438698431144685]\n"
     ]
    }
   ],
   "source": [
    "new_pred_tar_un = np.empty((pred_50_tar_un.shape))\n",
    "new_pred_tar_wei = np.empty((pred_50_tar_wei.shape))\n",
    "new_test_tar = np.empty((test_tar.shape))\n",
    "old_tar_vec = [pred_50_tar_un, pred_50_tar_wei, test_tar]\n",
    "new_tar_vec = [new_pred_tar_wei, new_pred_tar_un, new_test_tar]\n",
    " \n",
    "for kk, vec in enumerate(old_tar_vec):    \n",
    "    for jj, tar in enumerate(vec):\n",
    "        for ii, year in enumerate(new_years):\n",
    "            if tar >= year and tar < (year + 5):\n",
    "                new_tar_vec[kk][jj] = year \n",
    "\n",
    "new_test_tar = new_tar_vec[-1]\n",
    "new_tar_vec = new_tar_vec[0:-1]\n",
    "acc_vec = []\n",
    "rmse_vec = []\n",
    "for ii, vec in enumerate(new_tar_vec):\n",
    "    acc_vec.append(np.mean(vec.astype(int) == new_test_tar))\n",
    "    rmse_vec.append(mean_squared_error(vec, new_test_tar, squared=False))\n",
    "    \n",
    "print(rmse_vec)\n",
    "print(acc_vec)"
   ]
  },
  {
   "cell_type": "code",
   "execution_count": 52,
   "metadata": {},
   "outputs": [
    {
     "data": {
      "image/png": "[encoded data removed]",
      "text/plain": [
       "<Figure size 432x288 with 1 Axes>"
      ]
     },
     "metadata": {
      "needs_background": "light"
     },
     "output_type": "display_data"
    },
    {
     "data": {
      "image/png": "[encoded data removed]",
      "text/plain": [
       "<Figure size 432x288 with 1 Axes>"
      ]
     },
     "metadata": {
      "needs_background": "light"
     },
     "output_type": "display_data"
    }
   ],
   "source": [
    "plt.plot([50, 75, 100], acc_vec)\n",
    "plt.xlabel(\"k-Neighbors\")\n",
    "plt.ylabel(\"Accuracy\")\n",
    "plt.figure()\n",
    "plt.plot([50, 75, 100], rmse_vec)\n",
    "plt.xlabel(\"k-Neighbors\")\n",
    "plt.ylabel(\"RMSE\")\n",
    "plt.show()"
   ]
  },
  {
   "cell_type": "code",
   "execution_count": null,
   "metadata": {},
   "outputs": [],
   "source": [
    "for jj, tar in enumerate(test_tar):\n",
    "    for ii, year in enumerate(new_years):\n",
    "        if tar >= year and tar < (year + 5):\n",
    "            new_test_tar[jj] = year "
   ]
  }
 ],
 "metadata": {
  "kernelspec": {
   "display_name": "hw8",
   "language": "python",
   "name": "hw8"
  },
  "language_info": {
   "codemirror_mode": {
    "name": "ipython",
    "version": 3
   },
   "file_extension": ".py",
   "mimetype": "text/x-python",
   "name": "python",
   "nbconvert_exporter": "python",
   "pygments_lexer": "ipython3",
   "version": "3.9.5"
  }
 },
 "nbformat": 4,
 "nbformat_minor": 4
}
