{
 "cells": [
  {
   "cell_type": "code",
   "execution_count": 4,
   "metadata": {},
   "outputs": [],
   "source": [
    "import numpy as np\n",
    "import sklearn.linear_model\n",
    "import matplotlib.pyplot as plt\n",
    "import os"
   ]
  },
  {
   "cell_type": "code",
   "execution_count": 10,
   "metadata": {},
   "outputs": [],
   "source": [
    "def load_data(data_path):\n",
    "    f = open(data_path)\n",
    "    features = []\n",
    "    targets = []\n",
    "    \n",
    "    for line in f: \n",
    "        split_line = line.split(\",\")\n",
    "        target_var = split_line.pop(0)\n",
    "        features.append([float(x) for x in split_line])\n",
    "        targets.append(float(target_var))\n",
    "    f.close()\n",
    "    features = np.array(features)\n",
    "    targets = np.array(targets)\n",
    "    return features, targets"
   ]
  },
  {
   "cell_type": "code",
   "execution_count": 13,
   "metadata": {},
   "outputs": [],
   "source": [
    "features, targets = load_data(\"C:/Users/selin/Documents/GitHub/spring2021-hw8-selincetin/YearPredictionMSD.txt\")"
   ]
  },
  {
   "cell_type": "code",
   "execution_count": 16,
   "metadata": {},
   "outputs": [
    {
     "name": "stdout",
     "output_type": "stream",
     "text": [
      "(515345, 90)\n",
      "[ 4.82475000e+01 -1.89837000e+00  3.62977200e+01  2.58776000e+00\n",
      "  9.71700000e-01 -2.62168300e+01  5.05097000e+00 -1.03412400e+01\n",
      "  3.55005000e+00 -6.36304000e+00  6.63016000e+00 -3.35142000e+00\n",
      "  3.76408500e+01  2.17408189e+03  6.97433460e+02  4.59245870e+02\n",
      "  7.42789610e+02  2.29307830e+02  3.87896970e+02  2.49066620e+02\n",
      "  2.45898700e+02  1.76205270e+02  9.88222200e+01  1.50972860e+02\n",
      "  7.84905700e+01 -6.20028200e+01  4.34965900e+01 -9.64271900e+01\n",
      " -1.08966080e+02  1.42285400e+01  1.45417800e+01 -2.35560800e+01\n",
      " -3.93695300e+01 -4.35920900e+01  2.08371400e+01  3.56391900e+01\n",
      " -1.81349470e+02 -9.36661400e+01 -9.05561600e+01 -1.74400000e-02\n",
      "  2.32271700e+01 -2.54834800e+01 -2.58807000e+01  1.25919800e+01\n",
      " -2.48511600e+01 -7.20736000e+00  7.78022480e+02  6.11594000e+01\n",
      "  2.33758500e+01 -9.76492500e+01  4.56917000e+00 -3.73228000e+01\n",
      "  4.15159000e+00  1.22431500e+01  3.50269700e+01 -1.78895730e+02\n",
      "  8.24657300e+01 -2.04942500e+01  1.01785770e+02 -1.97780800e+01\n",
      " -2.15265700e+01  3.36303000e+00 -1.16317600e+01  5.15541100e+01\n",
      " -5.05757600e+01 -2.81475500e+01 -8.31579500e+01 -7.35260000e+00\n",
      " -2.21150500e+01  1.18279000e+00 -1.22704670e+02  1.50573600e+02\n",
      "  2.43746800e+01  4.11982100e+01 -3.70431800e+01 -2.87298600e+01\n",
      "  1.62196140e+02  2.21830900e+01 -8.63509000e+00  8.52341600e+01\n",
      "  3.45733700e+01 -1.71707340e+02 -1.69670500e+01 -4.66761700e+01\n",
      " -1.25151600e+01  8.25806100e+01 -7.20899300e+01  9.90558000e+00\n",
      "  1.99629710e+02  1.88538200e+01]\n"
     ]
    }
   ],
   "source": [
    "print(features.shape)\n",
    "print(features[3, :])"
   ]
  },
  {
   "cell_type": "code",
   "execution_count": null,
   "metadata": {},
   "outputs": [],
   "source": []
  }
 ],
 "metadata": {
  "kernelspec": {
   "display_name": "hw8",
   "language": "python",
   "name": "hw8"
  },
  "language_info": {
   "codemirror_mode": {
    "name": "ipython",
    "version": 3
   },
   "file_extension": ".py",
   "mimetype": "text/x-python",
   "name": "python",
   "nbconvert_exporter": "python",
   "pygments_lexer": "ipython3",
   "version": "3.9.5"
  }
 },
 "nbformat": 4,
 "nbformat_minor": 4
}
